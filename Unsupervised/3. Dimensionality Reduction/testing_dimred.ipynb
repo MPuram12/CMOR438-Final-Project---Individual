{
 "cells": [
  {
   "cell_type": "markdown",
   "id": "185b810f",
   "metadata": {},
   "source": [
    "\n",
    "# PCA vs. SVD for Dimensionality Reduction & Image Compression\n"
   ]
  },
  {
   "cell_type": "code",
   "execution_count": 7,
   "id": "c75cca9b",
   "metadata": {},
   "outputs": [
    {
     "name": "stdout",
     "output_type": "stream",
     "text": [
      "Transformed Data:\n",
      " [[ 4.53583794  0.13374158]\n",
      " [ 2.05317872 -1.44708723]\n",
      " [-2.10036671 -2.09353228]\n",
      " [-0.03333961  2.97288526]\n",
      " [-4.45531035  0.43399268]]\n",
      "Reconstructed Data:\n",
      " [[ 1.18748961  1.90539029  2.93531631]\n",
      " [ 1.69189964  4.15547147  1.10629425]\n",
      " [ 3.18216235  7.9080785  -0.06284579]\n",
      " [ 3.97524608  6.01249115  5.00854007]\n",
      " [ 4.96320233 10.01856859  2.01269515]]\n"
     ]
    }
   ],
   "source": [
    "\n",
    "from pca import PCA  # Replace with actual import if in another file\n",
    "\n",
    "import numpy as np\n",
    "\n",
    "X = np.array([[1, 2, 3], [2, 4, 1], [3, 8, 0], [4, 6, 5], [5, 10, 2]])\n",
    "pca = PCA(n_components=2)\n",
    "X_transformed = pca.fit_transform(X)\n",
    "X_reconstructed = pca.inverse_transform(X_transformed)\n",
    "\n",
    "print(\"Transformed Data:\\n\", X_transformed)\n",
    "print(\"Reconstructed Data:\\n\", X_reconstructed)\n"
   ]
  },
  {
   "cell_type": "markdown",
   "id": "d06c5952",
   "metadata": {},
   "source": [
    "As we can see, it's not perfect, but it does a pretty good job of capturing most of the data"
   ]
  },
  {
   "cell_type": "markdown",
   "id": "7f9aadde",
   "metadata": {},
   "source": [
    "\n",
    "---\n",
    "\n",
    "## Singular Value Decomposition (SVD) for Image Compression\n",
    "\n",
    "**Purpose:**  \n",
    "Compress images by approximating them using fewer singular values.\n",
    "\n",
    "### Process\n",
    "1. **Convert Image to Grayscale** (if necessary).\n",
    "2. **Apply SVD:** `A ≈ U_k * S_k * V_k`\n",
    "3. **Retain Top `k` Components:** Balance quality vs. compression.\n",
    "4. **Reconstruct Image:** Use reduced matrices to approximate original.\n",
    "5. **Compression Ratio:** Estimate space saved.\n"
   ]
  },
  {
   "cell_type": "code",
   "execution_count": null,
   "id": "dffb5d29",
   "metadata": {},
   "outputs": [
    {
     "name": "stdout",
     "output_type": "stream",
     "text": [
      "Compression Ratio: 53.83301184899421\n"
     ]
    }
   ],
   "source": [
    "\n",
    "from svd_image_compression import SVDImageCompressor \n",
    "\n",
    "compressor = SVDImageCompressor(k=50)\n",
    "compressor.compress('your_image.jpg', 'compressed_image.jpg')\n",
    "print(\"Compression Ratio:\", compressor.get_compression_ratio('your_image.jpg'))\n"
   ]
  }
 ],
 "metadata": {
  "kernelspec": {
   "display_name": "base",
   "language": "python",
   "name": "python3"
  },
  "language_info": {
   "codemirror_mode": {
    "name": "ipython",
    "version": 3
   },
   "file_extension": ".py",
   "mimetype": "text/x-python",
   "name": "python",
   "nbconvert_exporter": "python",
   "pygments_lexer": "ipython3",
   "version": "3.11.5"
  }
 },
 "nbformat": 4,
 "nbformat_minor": 5
}
