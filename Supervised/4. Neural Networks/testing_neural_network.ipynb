{
 "cells": [
  {
   "cell_type": "code",
   "execution_count": 57,
   "id": "b49d5471",
   "metadata": {},
   "outputs": [],
   "source": [
    "from sklearn.datasets import fetch_california_housing\n",
    "from sklearn.model_selection import train_test_split\n",
    "from sklearn.preprocessing import StandardScaler\n",
    "import numpy as np\n",
    "\n",
    "# Load dataset\n",
    "data = fetch_california_housing()\n",
    "X, y = data.data, data.target\n"
   ]
  },
  {
   "cell_type": "code",
   "execution_count": 58,
   "id": "63dd88ca",
   "metadata": {},
   "outputs": [],
   "source": [
    "# Split the dataset\n",
    "X_train, X_test, y_train, y_test = train_test_split(X, y, test_size=0.2, random_state=42)\n",
    "\n",
    "# Standardize features\n",
    "scaler = StandardScaler()\n",
    "X_train_scaled = scaler.fit_transform(X_train)\n",
    "X_test_scaled = scaler.transform(X_test)\n",
    "\n",
    "# Reshape targets to match shape (n_samples, 1)\n",
    "y_train = y_train.reshape(-1, 1)\n",
    "y_test = y_test.reshape(-1, 1)"
   ]
  },
  {
   "cell_type": "code",
   "execution_count": 65,
   "id": "4bc7671d",
   "metadata": {},
   "outputs": [
    {
     "name": "stdout",
     "output_type": "stream",
     "text": [
      "R² score on test set: 0.5044028242075276\n"
     ]
    }
   ],
   "source": [
    "# Train neural network\n",
    "nn = NeuralNetwork(\n",
    "    n_input=X_train.shape[1],\n",
    "    hidden_dims=[1],\n",
    "    n_output=1,\n",
    "    learning_rate=0.01,\n",
    "    n_iters=1000,\n",
    "    activation_function='relu'\n",
    ")\n",
    "nn.fit(X_train_scaled, y_train)\n",
    "\n",
    "# Predict\n",
    "y_pred = nn.predict(X_test_scaled).flatten()\n",
    "y_true = y_test.flatten()\n",
    "\n",
    "# Manually compute R² score\n",
    "ss_res = np.sum((y_true - y_pred) ** 2)\n",
    "ss_tot = np.sum((y_true - np.mean(y_true)) ** 2)\n",
    "r_squared = 1 - (ss_res / ss_tot)\n",
    "\n",
    "print(\"R² score on test set:\", r_squared)"
   ]
  },
  {
   "cell_type": "code",
   "execution_count": 66,
   "id": "dccfc5d9",
   "metadata": {},
   "outputs": [
    {
     "name": "stdout",
     "output_type": "stream",
     "text": [
      "R² score on test set: 0.0006882688072800125\n"
     ]
    }
   ],
   "source": [
    "# Train neural network\n",
    "nn = NeuralNetwork(\n",
    "    n_input=X_train.shape[1],\n",
    "    hidden_dims=[64, 32],\n",
    "    n_output=1,\n",
    "    learning_rate=0.01,\n",
    "    n_iters=1000,\n",
    "    activation_function='relu'\n",
    ")\n",
    "nn.fit(X_train_scaled, y_train)\n",
    "\n",
    "# Predict\n",
    "y_pred = nn.predict(X_test_scaled).flatten()\n",
    "y_true = y_test.flatten()\n",
    "\n",
    "# Manually compute R² score\n",
    "ss_res = np.sum((y_true - y_pred) ** 2)\n",
    "ss_tot = np.sum((y_true - np.mean(y_true)) ** 2)\n",
    "r_squared = 1 - (ss_res / ss_tot)\n",
    "\n",
    "print(\"R² score on test set:\", r_squared)"
   ]
  }
 ],
 "metadata": {
  "kernelspec": {
   "display_name": "base",
   "language": "python",
   "name": "python3"
  },
  "language_info": {
   "codemirror_mode": {
    "name": "ipython",
    "version": 3
   },
   "file_extension": ".py",
   "mimetype": "text/x-python",
   "name": "python",
   "nbconvert_exporter": "python",
   "pygments_lexer": "ipython3",
   "version": "3.11.5"
  }
 },
 "nbformat": 4,
 "nbformat_minor": 5
}
