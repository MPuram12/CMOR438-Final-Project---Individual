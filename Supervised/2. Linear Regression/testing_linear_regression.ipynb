{
 "cells": [
  {
   "cell_type": "markdown",
   "id": "9b57bada",
   "metadata": {},
   "source": [
    "# 1. Setup"
   ]
  },
  {
   "cell_type": "code",
   "execution_count": 2,
   "id": "9c3fcaaf",
   "metadata": {},
   "outputs": [],
   "source": [
    "#!pip install kagglehub\n",
    "import numpy as np\n",
    "import pandas as pd\n",
    "import linear_regression\n",
    "from sklearn.model_selection import train_test_split\n",
    "from sklearn.preprocessing import StandardScaler, OneHotEncoder\n",
    "from sklearn.compose import ColumnTransformer\n",
    "from sklearn.metrics import r2_score\n",
    "from sklearn.linear_model import LinearRegression\n",
    "#import kagglehub"
   ]
  },
  {
   "cell_type": "markdown",
   "id": "b66886c1",
   "metadata": {},
   "source": [
    "# 2. Importing Insurance Data\n",
    "Here, we're using a basic insurance dataset where we use age, sex, BMI, number of children, status as a smoker, and region to try to predict how much individuals get charged for health insurance. In theory, all of these should collectively very easily predict how much insurance costs for each of these people. "
   ]
  },
  {
   "cell_type": "code",
   "execution_count": 4,
   "id": "12492858",
   "metadata": {},
   "outputs": [
    {
     "data": {
      "text/html": [
       "<div>\n",
       "<style scoped>\n",
       "    .dataframe tbody tr th:only-of-type {\n",
       "        vertical-align: middle;\n",
       "    }\n",
       "\n",
       "    .dataframe tbody tr th {\n",
       "        vertical-align: top;\n",
       "    }\n",
       "\n",
       "    .dataframe thead th {\n",
       "        text-align: right;\n",
       "    }\n",
       "</style>\n",
       "<table border=\"1\" class=\"dataframe\">\n",
       "  <thead>\n",
       "    <tr style=\"text-align: right;\">\n",
       "      <th></th>\n",
       "      <th>age</th>\n",
       "      <th>sex</th>\n",
       "      <th>bmi</th>\n",
       "      <th>children</th>\n",
       "      <th>smoker</th>\n",
       "      <th>region</th>\n",
       "      <th>charges</th>\n",
       "    </tr>\n",
       "  </thead>\n",
       "  <tbody>\n",
       "    <tr>\n",
       "      <th>0</th>\n",
       "      <td>19</td>\n",
       "      <td>female</td>\n",
       "      <td>27.900</td>\n",
       "      <td>0</td>\n",
       "      <td>yes</td>\n",
       "      <td>southwest</td>\n",
       "      <td>16884.92400</td>\n",
       "    </tr>\n",
       "    <tr>\n",
       "      <th>1</th>\n",
       "      <td>18</td>\n",
       "      <td>male</td>\n",
       "      <td>33.770</td>\n",
       "      <td>1</td>\n",
       "      <td>no</td>\n",
       "      <td>southeast</td>\n",
       "      <td>1725.55230</td>\n",
       "    </tr>\n",
       "    <tr>\n",
       "      <th>2</th>\n",
       "      <td>28</td>\n",
       "      <td>male</td>\n",
       "      <td>33.000</td>\n",
       "      <td>3</td>\n",
       "      <td>no</td>\n",
       "      <td>southeast</td>\n",
       "      <td>4449.46200</td>\n",
       "    </tr>\n",
       "    <tr>\n",
       "      <th>3</th>\n",
       "      <td>33</td>\n",
       "      <td>male</td>\n",
       "      <td>22.705</td>\n",
       "      <td>0</td>\n",
       "      <td>no</td>\n",
       "      <td>northwest</td>\n",
       "      <td>21984.47061</td>\n",
       "    </tr>\n",
       "    <tr>\n",
       "      <th>4</th>\n",
       "      <td>32</td>\n",
       "      <td>male</td>\n",
       "      <td>28.880</td>\n",
       "      <td>0</td>\n",
       "      <td>no</td>\n",
       "      <td>northwest</td>\n",
       "      <td>3866.85520</td>\n",
       "    </tr>\n",
       "  </tbody>\n",
       "</table>\n",
       "</div>"
      ],
      "text/plain": [
       "   age     sex     bmi  children smoker     region      charges\n",
       "0   19  female  27.900         0    yes  southwest  16884.92400\n",
       "1   18    male  33.770         1     no  southeast   1725.55230\n",
       "2   28    male  33.000         3     no  southeast   4449.46200\n",
       "3   33    male  22.705         0     no  northwest  21984.47061\n",
       "4   32    male  28.880         0     no  northwest   3866.85520"
      ]
     },
     "execution_count": 4,
     "metadata": {},
     "output_type": "execute_result"
    }
   ],
   "source": [
    "csv_path = 'insurance.csv'  # Path to the insurance.csv file\n",
    "df = pd.read_csv(csv_path)\n",
    "\n",
    "df.head()\n",
    "#print(df.dtypes)"
   ]
  },
  {
   "cell_type": "markdown",
   "id": "fbe61550",
   "metadata": {},
   "source": [
    "Here, we process the columns by taking numerical variables and standardizing them. In addition, the categorical variables are treated either as binary in the case of sex and smoker status. If we look at the regions, we treat it as a categorical variables in the same way it is usually done, with there being $n-1$ columns to represent $n$ possible different categorical variables. "
   ]
  },
  {
   "cell_type": "code",
   "execution_count": 5,
   "id": "6c08a9fa",
   "metadata": {},
   "outputs": [],
   "source": [
    "X = df.drop('charges', axis=1)\n",
    "y = df['charges']\n",
    "\n",
    "# Identify numerical and categorical columns\n",
    "numerical_cols = X.select_dtypes(include=np.number).columns.tolist()\n",
    "categorical_cols = X.select_dtypes(include=['object']).columns.tolist()\n",
    "\n",
    "# Create a ColumnTransformer\n",
    "preprocessor = ColumnTransformer(\n",
    "    transformers=[\n",
    "        ('num', StandardScaler(), numerical_cols),\n",
    "        ('cat', OneHotEncoder(drop='first'), categorical_cols)\n",
    "    ])\n",
    "\n",
    "X_train, X_test, y_train, y_test = train_test_split(X, y, test_size=0.2, random_state=42)\n",
    "\n",
    "# Fit and transform the training data, and transform the testing data\n",
    "X_train_processed = preprocessor.fit_transform(X_train)\n",
    "X_test_processed = preprocessor.transform(X_test)\n"
   ]
  },
  {
   "cell_type": "markdown",
   "id": "16d7f331",
   "metadata": {},
   "source": [
    "# 3. Results\n",
    "\n",
    "To make sure that our linear regression neuron works, we'll compare it to the standard linear regression model by sci-kit. If our linear regression neuron works perfectly, then we should have an $R^2$ value equivalent to that of the standard sci-kit regression model, due to the fact that standard linear regression models are the least unbiased estimators. "
   ]
  },
  {
   "cell_type": "code",
   "execution_count": 9,
   "id": "9b2fa501",
   "metadata": {},
   "outputs": [
    {
     "name": "stdout",
     "output_type": "stream",
     "text": [
      "\n",
      "Using scikit-learn LinearRegression:\n",
      "R^2 Score (scikit-learn): 0.78\n"
     ]
    }
   ],
   "source": [
    "print(\"\\nUsing scikit-learn LinearRegression:\")\n",
    "model = LinearRegression()\n",
    "model.fit(X_train_processed, y_train)\n",
    "y_pred_sklearn = model.predict(X_test_processed)\n",
    "r2_sklearn = r2_score(y_test, y_pred_sklearn)\n",
    "print(f\"R^2 Score (scikit-learn): {r2_sklearn:.2f}\")"
   ]
  },
  {
   "cell_type": "markdown",
   "id": "217c3418",
   "metadata": {},
   "source": [
    "Evidently, we get an $R^2$ value of 0.78. Now testing with our own linear regression neuron:"
   ]
  },
  {
   "cell_type": "code",
   "execution_count": 18,
   "id": "1cabd40d",
   "metadata": {},
   "outputs": [
    {
     "name": "stdout",
     "output_type": "stream",
     "text": [
      "\n",
      "Using Custom LinearRegressionNeuron:\n",
      "R^2 Score (Custom): 0.78\n"
     ]
    }
   ],
   "source": [
    "from linear_regression import LinearRegressionNeuron\n",
    "\n",
    "print(\"\\nUsing Custom LinearRegressionNeuron:\")\n",
    "neuron = LinearRegressionNeuron(learning_rate=0.01, n_iters=2000)\n",
    "neuron.fit(X_train_processed, y_train)\n",
    "y_pred_custom = neuron.predict(X_test_processed)\n",
    "r2_custom = neuron.score(X_test_processed, y_test)\n",
    "print(f\"R^2 Score (Custom): {r2_custom:.2f}\")\n"
   ]
  },
  {
   "cell_type": "markdown",
   "id": "0b934c7d",
   "metadata": {},
   "source": [
    "We get the same $R^2$ score, indicating that our linear regression neuron works well for our intended purpose.\n",
    "\n",
    "# 4. Visualising the Evolution\n",
    "\n",
    "Now, we'll plot how the $R^2$ value increases with the number of iterations. "
   ]
  },
  {
   "cell_type": "code",
   "execution_count": 8,
   "id": "52a75eea",
   "metadata": {},
   "outputs": [
    {
     "name": "stdout",
     "output_type": "stream",
     "text": [
      "\n",
      "Using Custom LinearRegressionNeuron with R² Tracking:\n"
     ]
    },
    {
     "data": {
      "image/png": "[encoded data removed]",
      "text/plain": [
       "<Figure size 800x500 with 1 Axes>"
      ]
     },
     "metadata": {},
     "output_type": "display_data"
    }
   ],
   "source": [
    "from linear_regression import LinearRegressionNeuron\n",
    "import numpy as np\n",
    "\n",
    "print(\"\\nUsing Custom LinearRegressionNeuron with R² Tracking:\")\n",
    "\n",
    "# Set total iterations and tracking interval\n",
    "total_iters = 2000\n",
    "interval = 100\n",
    "\n",
    "# Initialize model\n",
    "neuron = LinearRegressionNeuron(learning_rate=0.01, n_iters=interval)\n",
    "\n",
    "# Track R² values\n",
    "r2_scores = []\n",
    "\n",
    "for i in range(0, total_iters, interval):\n",
    "    neuron = LinearRegressionNeuron(learning_rate=0.01, n_iters=i)\n",
    "    neuron.fit(X_train_processed, y_train)  # Fit for `interval` iterations each time\n",
    "    y_pred = neuron.predict(X_test_processed)\n",
    "    r2 = neuron.score(X_test_processed, y_test)\n",
    "    r2_scores.append((i + interval, r2))\n",
    "    #print(f\"Iteration {i + interval}: R^2 Score = {r2:.4f}\")\n",
    "\n",
    "import matplotlib.pyplot as plt\n",
    "\n",
    "# Assuming r2_scores is a list of tuples like [(100, r2_1), (200, r2_2), ..., (2000, r2_n)]\n",
    "iterations, scores = zip(*r2_scores)\n",
    "\n",
    "plt.figure(figsize=(8, 5))\n",
    "plt.plot(iterations, scores, marker='o', linestyle='-', color='blue')\n",
    "plt.title('R² Score Over Training Iterations')\n",
    "plt.xlabel('Iterations')\n",
    "plt.ylabel('R² Score')\n",
    "plt.grid(True)\n",
    "plt.tight_layout()\n",
    "plt.show()\n",
    "\n"
   ]
  },
  {
   "cell_type": "markdown",
   "id": "d678c8cb",
   "metadata": {},
   "source": [
    "As you can see, the $R^2$ value increases exponentially with the number of iterations, converging to the same $R^2$ value as the least unbiased estimator"
   ]
  }
 ],
 "metadata": {
  "kernelspec": {
   "display_name": "base",
   "language": "python",
   "name": "python3"
  },
  "language_info": {
   "codemirror_mode": {
    "name": "ipython",
    "version": 3
   },
   "file_extension": ".py",
   "mimetype": "text/x-python",
   "name": "python",
   "nbconvert_exporter": "python",
   "pygments_lexer": "ipython3",
   "version": "3.11.5"
  }
 },
 "nbformat": 4,
 "nbformat_minor": 5
}
